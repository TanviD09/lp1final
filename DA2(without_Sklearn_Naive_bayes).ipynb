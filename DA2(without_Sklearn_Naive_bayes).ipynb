{
 "cells": [
  {
   "cell_type": "markdown",
   "metadata": {
    "colab_type": "text",
    "id": "view-in-github"
   },
   "source": [
    "<a href=\"https://colab.research.google.com/github/aditya-malte/Simple-LP1-Codes/blob/master/DA2(without_Sklearn_Naive_bayes).ipynb\" target=\"_parent\"><img src=\"https://colab.research.google.com/assets/colab-badge.svg\" alt=\"Open In Colab\"/></a>"
   ]
  },
  {
   "cell_type": "markdown",
   "metadata": {
    "colab_type": "text",
    "id": "Clwvj16FGltc"
   },
   "source": [
    "## Download the Pima Dataset from kagggle:\n",
    "https://www.kaggle.com/uciml/pima-indians-diabetes-database/download"
   ]
  },
  {
   "cell_type": "code",
   "execution_count": 28,
   "metadata": {
    "colab": {},
    "colab_type": "code",
    "id": "_JxlybaBEzTs"
   },
   "outputs": [],
   "source": [
    "import pandas as pd\n",
    "from sklearn.model_selection import train_test_split\n",
    "from sklearn.metrics import confusion_matrix"
   ]
  },
  {
   "cell_type": "code",
   "execution_count": 29,
   "metadata": {
    "colab": {},
    "colab_type": "code",
    "id": "bjOQAgAvG_ZJ"
   },
   "outputs": [],
   "source": [
    "data = pd.read_csv(\"diabetes.csv\")"
   ]
  },
  {
   "cell_type": "code",
   "execution_count": 30,
   "metadata": {
    "colab": {},
    "colab_type": "code",
    "id": "VPNkxuP_PxZz"
   },
   "outputs": [],
   "source": [
    "#columns = data.columns"
   ]
  },
  {
   "cell_type": "code",
   "execution_count": 31,
   "metadata": {
    "colab": {},
    "colab_type": "code",
    "id": "nfNPgDloP3hb"
   },
   "outputs": [],
   "source": [
    "#columns = [col_name for col_name in columns if not col_name==\"Outcome\"]"
   ]
  },
  {
   "cell_type": "code",
   "execution_count": 32,
   "metadata": {
    "colab": {
     "base_uri": "https://localhost:8080/",
     "height": 204
    },
    "colab_type": "code",
    "id": "5mtlJMa6HE83",
    "outputId": "6fe224ef-3bc9-4c9e-d0a9-9f40a07bc021"
   },
   "outputs": [
    {
     "data": {
      "text/html": [
       "<div>\n",
       "<style scoped>\n",
       "    .dataframe tbody tr th:only-of-type {\n",
       "        vertical-align: middle;\n",
       "    }\n",
       "\n",
       "    .dataframe tbody tr th {\n",
       "        vertical-align: top;\n",
       "    }\n",
       "\n",
       "    .dataframe thead th {\n",
       "        text-align: right;\n",
       "    }\n",
       "</style>\n",
       "<table border=\"1\" class=\"dataframe\">\n",
       "  <thead>\n",
       "    <tr style=\"text-align: right;\">\n",
       "      <th></th>\n",
       "      <th>Pregnancies</th>\n",
       "      <th>Glucose</th>\n",
       "      <th>BloodPressure</th>\n",
       "      <th>SkinThickness</th>\n",
       "      <th>Insulin</th>\n",
       "      <th>BMI</th>\n",
       "      <th>DiabetesPedigreeFunction</th>\n",
       "      <th>Age</th>\n",
       "      <th>Outcome</th>\n",
       "    </tr>\n",
       "  </thead>\n",
       "  <tbody>\n",
       "    <tr>\n",
       "      <th>0</th>\n",
       "      <td>6</td>\n",
       "      <td>148</td>\n",
       "      <td>72</td>\n",
       "      <td>35</td>\n",
       "      <td>0</td>\n",
       "      <td>33.6</td>\n",
       "      <td>0.627</td>\n",
       "      <td>50</td>\n",
       "      <td>1</td>\n",
       "    </tr>\n",
       "    <tr>\n",
       "      <th>1</th>\n",
       "      <td>1</td>\n",
       "      <td>85</td>\n",
       "      <td>66</td>\n",
       "      <td>29</td>\n",
       "      <td>0</td>\n",
       "      <td>26.6</td>\n",
       "      <td>0.351</td>\n",
       "      <td>31</td>\n",
       "      <td>0</td>\n",
       "    </tr>\n",
       "    <tr>\n",
       "      <th>2</th>\n",
       "      <td>8</td>\n",
       "      <td>183</td>\n",
       "      <td>64</td>\n",
       "      <td>0</td>\n",
       "      <td>0</td>\n",
       "      <td>23.3</td>\n",
       "      <td>0.672</td>\n",
       "      <td>32</td>\n",
       "      <td>1</td>\n",
       "    </tr>\n",
       "    <tr>\n",
       "      <th>3</th>\n",
       "      <td>1</td>\n",
       "      <td>89</td>\n",
       "      <td>66</td>\n",
       "      <td>23</td>\n",
       "      <td>94</td>\n",
       "      <td>28.1</td>\n",
       "      <td>0.167</td>\n",
       "      <td>21</td>\n",
       "      <td>0</td>\n",
       "    </tr>\n",
       "    <tr>\n",
       "      <th>4</th>\n",
       "      <td>0</td>\n",
       "      <td>137</td>\n",
       "      <td>40</td>\n",
       "      <td>35</td>\n",
       "      <td>168</td>\n",
       "      <td>43.1</td>\n",
       "      <td>2.288</td>\n",
       "      <td>33</td>\n",
       "      <td>1</td>\n",
       "    </tr>\n",
       "  </tbody>\n",
       "</table>\n",
       "</div>"
      ],
      "text/plain": [
       "   Pregnancies  Glucose  BloodPressure  SkinThickness  Insulin   BMI  \\\n",
       "0            6      148             72             35        0  33.6   \n",
       "1            1       85             66             29        0  26.6   \n",
       "2            8      183             64              0        0  23.3   \n",
       "3            1       89             66             23       94  28.1   \n",
       "4            0      137             40             35      168  43.1   \n",
       "\n",
       "   DiabetesPedigreeFunction  Age  Outcome  \n",
       "0                     0.627   50        1  \n",
       "1                     0.351   31        0  \n",
       "2                     0.672   32        1  \n",
       "3                     0.167   21        0  \n",
       "4                     2.288   33        1  "
      ]
     },
     "execution_count": 32,
     "metadata": {},
     "output_type": "execute_result"
    }
   ],
   "source": [
    "data.head()"
   ]
  },
  {
   "cell_type": "code",
   "execution_count": 33,
   "metadata": {
    "colab": {
     "base_uri": "https://localhost:8080/",
     "height": 286
    },
    "colab_type": "code",
    "id": "aLNss8UoJCVG",
    "outputId": "d9b1cd21-a0ef-4c28-f9dd-32db66758c4e"
   },
   "outputs": [
    {
     "data": {
      "text/plain": [
       "<matplotlib.axes._subplots.AxesSubplot at 0x175019f2518>"
      ]
     },
     "execution_count": 33,
     "metadata": {},
     "output_type": "execute_result"
    },
    {
     "data": {
      "image/png": "[encoded data removed]",
      "text/plain": [
       "<Figure size 432x288 with 1 Axes>"
      ]
     },
     "metadata": {
      "needs_background": "light"
     },
     "output_type": "display_data"
    }
   ],
   "source": [
    "data[\"Outcome\"].hist()"
   ]
  },
  {
   "cell_type": "code",
   "execution_count": 34,
   "metadata": {
    "colab": {},
    "colab_type": "code",
    "id": "aqCBNXMGHG4I"
   },
   "outputs": [],
   "source": [
    "y = data[\"Outcome\"]\n",
    "X = data.drop([\"Outcome\"], axis=1)"
   ]
  },
  {
   "cell_type": "code",
   "execution_count": 35,
   "metadata": {
    "colab": {
     "base_uri": "https://localhost:8080/",
     "height": 204
    },
    "colab_type": "code",
    "id": "a0Pb_NybOrwa",
    "outputId": "0633f27a-f0c3-426d-fe64-95263725ff64"
   },
   "outputs": [
    {
     "data": {
      "text/html": [
       "<div>\n",
       "<style scoped>\n",
       "    .dataframe tbody tr th:only-of-type {\n",
       "        vertical-align: middle;\n",
       "    }\n",
       "\n",
       "    .dataframe tbody tr th {\n",
       "        vertical-align: top;\n",
       "    }\n",
       "\n",
       "    .dataframe thead th {\n",
       "        text-align: right;\n",
       "    }\n",
       "</style>\n",
       "<table border=\"1\" class=\"dataframe\">\n",
       "  <thead>\n",
       "    <tr style=\"text-align: right;\">\n",
       "      <th></th>\n",
       "      <th>Pregnancies</th>\n",
       "      <th>Glucose</th>\n",
       "      <th>BloodPressure</th>\n",
       "      <th>SkinThickness</th>\n",
       "      <th>Insulin</th>\n",
       "      <th>BMI</th>\n",
       "      <th>DiabetesPedigreeFunction</th>\n",
       "      <th>Age</th>\n",
       "    </tr>\n",
       "  </thead>\n",
       "  <tbody>\n",
       "    <tr>\n",
       "      <th>0</th>\n",
       "      <td>6</td>\n",
       "      <td>148</td>\n",
       "      <td>72</td>\n",
       "      <td>35</td>\n",
       "      <td>0</td>\n",
       "      <td>33.6</td>\n",
       "      <td>0.627</td>\n",
       "      <td>50</td>\n",
       "    </tr>\n",
       "    <tr>\n",
       "      <th>1</th>\n",
       "      <td>1</td>\n",
       "      <td>85</td>\n",
       "      <td>66</td>\n",
       "      <td>29</td>\n",
       "      <td>0</td>\n",
       "      <td>26.6</td>\n",
       "      <td>0.351</td>\n",
       "      <td>31</td>\n",
       "    </tr>\n",
       "    <tr>\n",
       "      <th>2</th>\n",
       "      <td>8</td>\n",
       "      <td>183</td>\n",
       "      <td>64</td>\n",
       "      <td>0</td>\n",
       "      <td>0</td>\n",
       "      <td>23.3</td>\n",
       "      <td>0.672</td>\n",
       "      <td>32</td>\n",
       "    </tr>\n",
       "    <tr>\n",
       "      <th>3</th>\n",
       "      <td>1</td>\n",
       "      <td>89</td>\n",
       "      <td>66</td>\n",
       "      <td>23</td>\n",
       "      <td>94</td>\n",
       "      <td>28.1</td>\n",
       "      <td>0.167</td>\n",
       "      <td>21</td>\n",
       "    </tr>\n",
       "    <tr>\n",
       "      <th>4</th>\n",
       "      <td>0</td>\n",
       "      <td>137</td>\n",
       "      <td>40</td>\n",
       "      <td>35</td>\n",
       "      <td>168</td>\n",
       "      <td>43.1</td>\n",
       "      <td>2.288</td>\n",
       "      <td>33</td>\n",
       "    </tr>\n",
       "  </tbody>\n",
       "</table>\n",
       "</div>"
      ],
      "text/plain": [
       "   Pregnancies  Glucose  BloodPressure  SkinThickness  Insulin   BMI  \\\n",
       "0            6      148             72             35        0  33.6   \n",
       "1            1       85             66             29        0  26.6   \n",
       "2            8      183             64              0        0  23.3   \n",
       "3            1       89             66             23       94  28.1   \n",
       "4            0      137             40             35      168  43.1   \n",
       "\n",
       "   DiabetesPedigreeFunction  Age  \n",
       "0                     0.627   50  \n",
       "1                     0.351   31  \n",
       "2                     0.672   32  \n",
       "3                     0.167   21  \n",
       "4                     2.288   33  "
      ]
     },
     "execution_count": 35,
     "metadata": {},
     "output_type": "execute_result"
    }
   ],
   "source": [
    "X.head()"
   ]
  },
  {
   "cell_type": "code",
   "execution_count": 36,
   "metadata": {
    "colab": {
     "base_uri": "https://localhost:8080/",
     "height": 119
    },
    "colab_type": "code",
    "id": "6tl8wIsaHio7",
    "outputId": "628a9904-09ef-4033-9248-eef4e89d433a"
   },
   "outputs": [
    {
     "data": {
      "text/plain": [
       "0    1\n",
       "1    0\n",
       "2    1\n",
       "3    0\n",
       "4    1\n",
       "Name: Outcome, dtype: int64"
      ]
     },
     "execution_count": 36,
     "metadata": {},
     "output_type": "execute_result"
    }
   ],
   "source": [
    "y.head()"
   ]
  },
  {
   "cell_type": "code",
   "execution_count": 37,
   "metadata": {
    "colab": {},
    "colab_type": "code",
    "id": "oZJrCIjO-uK8"
   },
   "outputs": [],
   "source": [
    "train_X, test_X, train_y, test_y = train_test_split(X, y, test_size=0.3)"
   ]
  },
  {
   "cell_type": "code",
   "execution_count": 38,
   "metadata": {
    "colab": {
     "base_uri": "https://localhost:8080/",
     "height": 204
    },
    "colab_type": "code",
    "id": "banVVfhp-uIJ",
    "outputId": "6ba7caf1-1290-4c48-f6be-c1d82b14c875"
   },
   "outputs": [
    {
     "data": {
      "text/html": [
       "<div>\n",
       "<style scoped>\n",
       "    .dataframe tbody tr th:only-of-type {\n",
       "        vertical-align: middle;\n",
       "    }\n",
       "\n",
       "    .dataframe tbody tr th {\n",
       "        vertical-align: top;\n",
       "    }\n",
       "\n",
       "    .dataframe thead th {\n",
       "        text-align: right;\n",
       "    }\n",
       "</style>\n",
       "<table border=\"1\" class=\"dataframe\">\n",
       "  <thead>\n",
       "    <tr style=\"text-align: right;\">\n",
       "      <th></th>\n",
       "      <th>Pregnancies</th>\n",
       "      <th>Glucose</th>\n",
       "      <th>BloodPressure</th>\n",
       "      <th>SkinThickness</th>\n",
       "      <th>Insulin</th>\n",
       "      <th>BMI</th>\n",
       "      <th>DiabetesPedigreeFunction</th>\n",
       "      <th>Age</th>\n",
       "    </tr>\n",
       "  </thead>\n",
       "  <tbody>\n",
       "    <tr>\n",
       "      <th>528</th>\n",
       "      <td>0</td>\n",
       "      <td>117</td>\n",
       "      <td>66</td>\n",
       "      <td>31</td>\n",
       "      <td>188</td>\n",
       "      <td>30.8</td>\n",
       "      <td>0.493</td>\n",
       "      <td>22</td>\n",
       "    </tr>\n",
       "    <tr>\n",
       "      <th>537</th>\n",
       "      <td>0</td>\n",
       "      <td>57</td>\n",
       "      <td>60</td>\n",
       "      <td>0</td>\n",
       "      <td>0</td>\n",
       "      <td>21.7</td>\n",
       "      <td>0.735</td>\n",
       "      <td>67</td>\n",
       "    </tr>\n",
       "    <tr>\n",
       "      <th>409</th>\n",
       "      <td>1</td>\n",
       "      <td>172</td>\n",
       "      <td>68</td>\n",
       "      <td>49</td>\n",
       "      <td>579</td>\n",
       "      <td>42.4</td>\n",
       "      <td>0.702</td>\n",
       "      <td>28</td>\n",
       "    </tr>\n",
       "    <tr>\n",
       "      <th>668</th>\n",
       "      <td>6</td>\n",
       "      <td>98</td>\n",
       "      <td>58</td>\n",
       "      <td>33</td>\n",
       "      <td>190</td>\n",
       "      <td>34.0</td>\n",
       "      <td>0.430</td>\n",
       "      <td>43</td>\n",
       "    </tr>\n",
       "    <tr>\n",
       "      <th>72</th>\n",
       "      <td>13</td>\n",
       "      <td>126</td>\n",
       "      <td>90</td>\n",
       "      <td>0</td>\n",
       "      <td>0</td>\n",
       "      <td>43.4</td>\n",
       "      <td>0.583</td>\n",
       "      <td>42</td>\n",
       "    </tr>\n",
       "  </tbody>\n",
       "</table>\n",
       "</div>"
      ],
      "text/plain": [
       "     Pregnancies  Glucose  BloodPressure  SkinThickness  Insulin   BMI  \\\n",
       "528            0      117             66             31      188  30.8   \n",
       "537            0       57             60              0        0  21.7   \n",
       "409            1      172             68             49      579  42.4   \n",
       "668            6       98             58             33      190  34.0   \n",
       "72            13      126             90              0        0  43.4   \n",
       "\n",
       "     DiabetesPedigreeFunction  Age  \n",
       "528                     0.493   22  \n",
       "537                     0.735   67  \n",
       "409                     0.702   28  \n",
       "668                     0.430   43  \n",
       "72                      0.583   42  "
      ]
     },
     "execution_count": 38,
     "metadata": {},
     "output_type": "execute_result"
    }
   ],
   "source": [
    "train_X.head()"
   ]
  },
  {
   "cell_type": "code",
   "execution_count": 39,
   "metadata": {
    "colab": {
     "base_uri": "https://localhost:8080/",
     "height": 119
    },
    "colab_type": "code",
    "id": "988ZlydE-sS7",
    "outputId": "84545ccf-d2c5-4581-8eaa-53fc1a0e0077"
   },
   "outputs": [
    {
     "data": {
      "text/plain": [
       "528    0\n",
       "537    0\n",
       "409    1\n",
       "668    0\n",
       "72     1\n",
       "Name: Outcome, dtype: int64"
      ]
     },
     "execution_count": 39,
     "metadata": {},
     "output_type": "execute_result"
    }
   ],
   "source": [
    "train_y.head()"
   ]
  },
  {
   "cell_type": "code",
   "execution_count": 40,
   "metadata": {
    "colab": {
     "base_uri": "https://localhost:8080/",
     "height": 204
    },
    "colab_type": "code",
    "id": "OqX5TdfS-sGl",
    "outputId": "03354305-5dab-4c69-be9a-518931f02286"
   },
   "outputs": [
    {
     "data": {
      "text/html": [
       "<div>\n",
       "<style scoped>\n",
       "    .dataframe tbody tr th:only-of-type {\n",
       "        vertical-align: middle;\n",
       "    }\n",
       "\n",
       "    .dataframe tbody tr th {\n",
       "        vertical-align: top;\n",
       "    }\n",
       "\n",
       "    .dataframe thead th {\n",
       "        text-align: right;\n",
       "    }\n",
       "</style>\n",
       "<table border=\"1\" class=\"dataframe\">\n",
       "  <thead>\n",
       "    <tr style=\"text-align: right;\">\n",
       "      <th></th>\n",
       "      <th>Pregnancies</th>\n",
       "      <th>Glucose</th>\n",
       "      <th>BloodPressure</th>\n",
       "      <th>SkinThickness</th>\n",
       "      <th>Insulin</th>\n",
       "      <th>BMI</th>\n",
       "      <th>DiabetesPedigreeFunction</th>\n",
       "      <th>Age</th>\n",
       "    </tr>\n",
       "  </thead>\n",
       "  <tbody>\n",
       "    <tr>\n",
       "      <th>100</th>\n",
       "      <td>1</td>\n",
       "      <td>163</td>\n",
       "      <td>72</td>\n",
       "      <td>0</td>\n",
       "      <td>0</td>\n",
       "      <td>39.0</td>\n",
       "      <td>1.222</td>\n",
       "      <td>33</td>\n",
       "    </tr>\n",
       "    <tr>\n",
       "      <th>643</th>\n",
       "      <td>4</td>\n",
       "      <td>90</td>\n",
       "      <td>0</td>\n",
       "      <td>0</td>\n",
       "      <td>0</td>\n",
       "      <td>28.0</td>\n",
       "      <td>0.610</td>\n",
       "      <td>31</td>\n",
       "    </tr>\n",
       "    <tr>\n",
       "      <th>695</th>\n",
       "      <td>7</td>\n",
       "      <td>142</td>\n",
       "      <td>90</td>\n",
       "      <td>24</td>\n",
       "      <td>480</td>\n",
       "      <td>30.4</td>\n",
       "      <td>0.128</td>\n",
       "      <td>43</td>\n",
       "    </tr>\n",
       "    <tr>\n",
       "      <th>661</th>\n",
       "      <td>1</td>\n",
       "      <td>199</td>\n",
       "      <td>76</td>\n",
       "      <td>43</td>\n",
       "      <td>0</td>\n",
       "      <td>42.9</td>\n",
       "      <td>1.394</td>\n",
       "      <td>22</td>\n",
       "    </tr>\n",
       "    <tr>\n",
       "      <th>571</th>\n",
       "      <td>2</td>\n",
       "      <td>130</td>\n",
       "      <td>96</td>\n",
       "      <td>0</td>\n",
       "      <td>0</td>\n",
       "      <td>22.6</td>\n",
       "      <td>0.268</td>\n",
       "      <td>21</td>\n",
       "    </tr>\n",
       "  </tbody>\n",
       "</table>\n",
       "</div>"
      ],
      "text/plain": [
       "     Pregnancies  Glucose  BloodPressure  SkinThickness  Insulin   BMI  \\\n",
       "100            1      163             72              0        0  39.0   \n",
       "643            4       90              0              0        0  28.0   \n",
       "695            7      142             90             24      480  30.4   \n",
       "661            1      199             76             43        0  42.9   \n",
       "571            2      130             96              0        0  22.6   \n",
       "\n",
       "     DiabetesPedigreeFunction  Age  \n",
       "100                     1.222   33  \n",
       "643                     0.610   31  \n",
       "695                     0.128   43  \n",
       "661                     1.394   22  \n",
       "571                     0.268   21  "
      ]
     },
     "execution_count": 40,
     "metadata": {},
     "output_type": "execute_result"
    }
   ],
   "source": [
    "test_X.head()"
   ]
  },
  {
   "cell_type": "code",
   "execution_count": 41,
   "metadata": {
    "colab": {
     "base_uri": "https://localhost:8080/",
     "height": 119
    },
    "colab_type": "code",
    "id": "Nil5Y1Vy-r1G",
    "outputId": "a485a426-11c7-473d-c0d0-387ab0c7bc38"
   },
   "outputs": [
    {
     "data": {
      "text/plain": [
       "100    1\n",
       "643    0\n",
       "695    1\n",
       "661    1\n",
       "571    0\n",
       "Name: Outcome, dtype: int64"
      ]
     },
     "execution_count": 41,
     "metadata": {},
     "output_type": "execute_result"
    }
   ],
   "source": [
    "test_y.head()"
   ]
  },
  {
   "cell_type": "code",
   "execution_count": 42,
   "metadata": {
    "colab": {},
    "colab_type": "code",
    "id": "qmaTaaGB-roE"
   },
   "outputs": [],
   "source": [
    "#generate summary\n",
    "train_mean_pos = train_X[train_y==1].mean()\n",
    "train_std_pos = train_X[train_y==1].std()\n",
    "train_mean_neg = train_X[train_y==0].mean()\n",
    "train_std_neg = train_X[train_y==0].std()"
   ]
  },
  {
   "cell_type": "code",
   "execution_count": 43,
   "metadata": {
    "colab": {
     "base_uri": "https://localhost:8080/",
     "height": 170
    },
    "colab_type": "code",
    "id": "3XWUc3Y1_3OX",
    "outputId": "08f71356-ba8a-4f1a-ffc1-c0526c91cbb4"
   },
   "outputs": [
    {
     "data": {
      "text/plain": [
       "Pregnancies                   5.244681\n",
       "Glucose                     141.250000\n",
       "BloodPressure                71.755319\n",
       "SkinThickness                21.776596\n",
       "Insulin                     102.781915\n",
       "BMI                          35.085638\n",
       "DiabetesPedigreeFunction      0.516527\n",
       "Age                          37.771277\n",
       "dtype: float64"
      ]
     },
     "execution_count": 43,
     "metadata": {},
     "output_type": "execute_result"
    }
   ],
   "source": [
    "train_mean_pos"
   ]
  },
  {
   "cell_type": "code",
   "execution_count": 44,
   "metadata": {
    "colab": {
     "base_uri": "https://localhost:8080/",
     "height": 170
    },
    "colab_type": "code",
    "id": "j2EeCpMD_0x0",
    "outputId": "e30761ae-98d3-4efb-985a-3e78aae87953"
   },
   "outputs": [
    {
     "data": {
      "text/plain": [
       "Pregnancies                   3.648122\n",
       "Glucose                      29.810924\n",
       "BloodPressure                20.185337\n",
       "SkinThickness                17.352683\n",
       "Insulin                     143.018978\n",
       "BMI                           7.211248\n",
       "DiabetesPedigreeFunction      0.325736\n",
       "Age                          10.857651\n",
       "dtype: float64"
      ]
     },
     "execution_count": 44,
     "metadata": {},
     "output_type": "execute_result"
    }
   ],
   "source": [
    "train_std_pos"
   ]
  },
  {
   "cell_type": "code",
   "execution_count": 45,
   "metadata": {
    "colab": {
     "base_uri": "https://localhost:8080/",
     "height": 170
    },
    "colab_type": "code",
    "id": "DDITv26B__S5",
    "outputId": "d9204406-758d-40f9-ea31-1cdf644e5eda"
   },
   "outputs": [
    {
     "data": {
      "text/plain": [
       "Pregnancies                   3.286533\n",
       "Glucose                     110.974212\n",
       "BloodPressure                68.232092\n",
       "SkinThickness                19.722063\n",
       "Insulin                      69.074499\n",
       "BMI                          30.149284\n",
       "DiabetesPedigreeFunction      0.445103\n",
       "Age                          31.252149\n",
       "dtype: float64"
      ]
     },
     "execution_count": 45,
     "metadata": {},
     "output_type": "execute_result"
    }
   ],
   "source": [
    "train_mean_neg"
   ]
  },
  {
   "cell_type": "code",
   "execution_count": 46,
   "metadata": {
    "colab": {
     "base_uri": "https://localhost:8080/",
     "height": 170
    },
    "colab_type": "code",
    "id": "rSaq-zJdAB3I",
    "outputId": "ea9ee347-6056-4433-ddf5-6827bfa077e2"
   },
   "outputs": [
    {
     "data": {
      "text/plain": [
       "Pregnancies                  3.002560\n",
       "Glucose                     25.048847\n",
       "BloodPressure               17.831443\n",
       "SkinThickness               14.804865\n",
       "Insulin                     94.533976\n",
       "BMI                          7.886281\n",
       "DiabetesPedigreeFunction     0.311236\n",
       "Age                         11.763695\n",
       "dtype: float64"
      ]
     },
     "execution_count": 46,
     "metadata": {},
     "output_type": "execute_result"
    }
   ],
   "source": [
    "train_std_neg"
   ]
  },
  {
   "cell_type": "code",
   "execution_count": 47,
   "metadata": {
    "colab": {},
    "colab_type": "code",
    "id": "A653-DtXAtei"
   },
   "outputs": [],
   "source": [
    "summary = { \"train_mean_pos\": train_mean_pos.tolist() , \"train_std_pos\": train_std_pos.tolist(), \n",
    "           \"train_mean_neg\": train_mean_neg.tolist(), \"train_std_neg\": train_std_neg.tolist()}"
   ]
  },
  {
   "cell_type": "code",
   "execution_count": 48,
   "metadata": {
    "colab": {
     "base_uri": "https://localhost:8080/",
     "height": 561
    },
    "colab_type": "code",
    "id": "6sQm2wSvBBsj",
    "outputId": "be88f19d-b5db-4255-edaa-de55149bba6f"
   },
   "outputs": [
    {
     "data": {
      "text/plain": [
       "{'train_mean_pos': [5.24468085106383,\n",
       "  141.25,\n",
       "  71.75531914893617,\n",
       "  21.77659574468085,\n",
       "  102.78191489361703,\n",
       "  35.085638297872315,\n",
       "  0.516526595744681,\n",
       "  37.77127659574468],\n",
       " 'train_std_pos': [3.648122131284128,\n",
       "  29.81092377754484,\n",
       "  20.185337067235718,\n",
       "  17.352682762162722,\n",
       "  143.0189781825397,\n",
       "  7.211247610765149,\n",
       "  0.32573601452793266,\n",
       "  10.85765086557896],\n",
       " 'train_mean_neg': [3.286532951289398,\n",
       "  110.97421203438395,\n",
       "  68.23209169054441,\n",
       "  19.722063037249285,\n",
       "  69.07449856733524,\n",
       "  30.149283667621745,\n",
       "  0.44510315186246396,\n",
       "  31.25214899713467],\n",
       " 'train_std_neg': [3.0025595904922593,\n",
       "  25.048846986811697,\n",
       "  17.83144263581405,\n",
       "  14.80486485307629,\n",
       "  94.53397587605545,\n",
       "  7.886280885787125,\n",
       "  0.3112360705766095,\n",
       "  11.76369474470932]}"
      ]
     },
     "execution_count": 48,
     "metadata": {},
     "output_type": "execute_result"
    }
   ],
   "source": [
    "summary"
   ]
  },
  {
   "cell_type": "code",
   "execution_count": 49,
   "metadata": {
    "colab": {},
    "colab_type": "code",
    "id": "9OfQxddHGVit"
   },
   "outputs": [],
   "source": [
    "import numpy as np\n",
    "def cond_prob(x, mn, stddv):  #value , mean, standard dev| this is that fancy formula: 1/root(sigma^2)....\n",
    "    varnc = stddv*stddv\n",
    "    p = 1/(np.sqrt(2*np.pi*varnc)) * np.exp((-(x-mn)**2)/(2*varnc))\n",
    "    return p\n"
   ]
  },
  {
   "cell_type": "code",
   "execution_count": 50,
   "metadata": {
    "colab": {},
    "colab_type": "code",
    "id": "ZQr814itBl9o"
   },
   "outputs": [],
   "source": [
    "def predict(row, summary):\n",
    "\n",
    "  #prior probability obtained as probability of class\n",
    "  #i.e. we find fraction of positive samples present in the whole dataset\n",
    "  prob_positive=len(summary[\"train_mean_pos\"])/( len(summary[\"train_mean_pos\"])+len(summary[\"train_mean_neg\"]) )\n",
    "  #then multiply it with conditional probability of each feature    IMPORTANT\n",
    "  for i in range(0, len(row)):\n",
    "    prob_positive = prob_positive * cond_prob(row[i],summary[\"train_mean_pos\"][i], summary[\"train_std_pos\"][i])\n",
    "  \n",
    "\n",
    "  #exact same process for negative\n",
    "  prob_negative=len(summary[\"train_mean_neg\"])/( len(summary[\"train_mean_pos\"])+len(summary[\"train_mean_neg\"]) )\n",
    "  for i in range(0, len(row)):\n",
    "    prob_negative = prob_negative * cond_prob(row[i],summary[\"train_mean_neg\"][i], summary[\"train_std_neg\"][i])\n",
    "  \n",
    "  return [prob_positive, prob_negative]"
   ]
  },
  {
   "cell_type": "code",
   "execution_count": 51,
   "metadata": {
    "colab": {},
    "colab_type": "code",
    "id": "XbhkGL0KAeYQ"
   },
   "outputs": [],
   "source": [
    "predictions_raw = []\n",
    "for row in test_X.values.tolist():\n",
    "  predictions_raw.append(predict(row, summary))"
   ]
  },
  {
   "cell_type": "code",
   "execution_count": 52,
   "metadata": {
    "colab": {
     "base_uri": "https://localhost:8080/",
     "height": 1000
    },
    "colab_type": "code",
    "id": "CGfbhqScJKfm",
    "outputId": "a4a6ec61-33ef-4987-ec98-4b1a9a53a0e6"
   },
   "outputs": [
    {
     "data": {
      "text/plain": [
       "[[2.372490272835149e-14, 3.692643993803251e-15],\n",
       " [1.535243704610827e-16, 7.076471061864795e-16],\n",
       " [1.4806168373051288e-14, 1.659750654596603e-17],\n",
       " [3.303932931034667e-16, 3.551093011009662e-18],\n",
       " [1.2526533340859932e-14, 1.396543323794345e-13],\n",
       " [3.7093439881608117e-13, 1.4562953437853514e-12],\n",
       " [2.2211960774918326e-13, 4.219280395741492e-15],\n",
       " [1.1942690475360027e-13, 2.5004723193038574e-13],\n",
       " [7.11754719201451e-14, 1.7030255879782396e-12],\n",
       " [4.273159169844868e-14, 2.948669595996605e-13],\n",
       " [1.221548358253667e-13, 7.017929946747603e-13],\n",
       " [4.872892153546115e-16, 5.3454260526844555e-15],\n",
       " [9.164583349060216e-14, 3.31513330323661e-13],\n",
       " [2.2384719580978713e-15, 2.6287669326045294e-16],\n",
       " [1.5027393344592001e-13, 3.675617873884262e-13],\n",
       " [3.538545438833596e-14, 4.760478146278137e-13],\n",
       " [3.1892096433328737e-13, 1.5311620211246148e-14],\n",
       " [5.461825694332592e-13, 2.3515719640064855e-14],\n",
       " [2.0276565688677402e-13, 1.716301630402652e-12],\n",
       " [5.706775748358535e-13, 2.7239008816729097e-13],\n",
       " [8.298967819506243e-18, 1.4709122848287627e-17],\n",
       " [1.0367493829291689e-14, 2.309429884778674e-14],\n",
       " [1.1740455644345641e-14, 3.289233971160002e-13],\n",
       " [2.899560086715715e-13, 2.3809786314416227e-14],\n",
       " [3.710738032548051e-14, 5.784750293860155e-15],\n",
       " [7.535502875914028e-15, 3.9779408478030264e-16],\n",
       " [2.1156386162396355e-13, 1.4313639474697571e-13],\n",
       " [1.8850888549776948e-13, 2.022578899530276e-12],\n",
       " [1.1541071676540292e-13, 1.1879741736620737e-13],\n",
       " [1.1895119026966975e-13, 1.141659925302869e-12],\n",
       " [8.301250175257126e-15, 1.0590626079152786e-17],\n",
       " [1.1446623638263567e-13, 1.3483221739695277e-12],\n",
       " [6.450584899439856e-13, 1.452444968903356e-12],\n",
       " [6.258419495771061e-16, 3.1767045870696193e-16],\n",
       " [8.363096518320844e-14, 6.6232563170161724e-15],\n",
       " [9.170614704071829e-14, 1.053550890304843e-13],\n",
       " [1.759622383344249e-14, 3.053746944786534e-15],\n",
       " [2.5585029228069148e-14, 1.1138829689970233e-12],\n",
       " [1.4132603095966035e-15, 6.8371363647127155e-18],\n",
       " [6.946632701695464e-15, 4.3483147722568986e-13],\n",
       " [3.3288639081960463e-13, 1.3019531716847632e-13],\n",
       " [8.017247997828486e-13, 1.611098035464083e-12],\n",
       " [3.1365300705082435e-14, 1.3031450427980278e-13],\n",
       " [6.720896892847728e-13, 8.08373090117638e-14],\n",
       " [2.431444784775556e-14, 1.8194813158340072e-16],\n",
       " [1.2868788877964034e-15, 2.0421097807150206e-13],\n",
       " [2.011480319040955e-14, 1.0637331184163325e-12],\n",
       " [2.1242898765031827e-14, 1.0032385113682423e-12],\n",
       " [2.961575205505815e-13, 2.813341454371307e-12],\n",
       " [2.6691932501522237e-14, 1.1228036688717465e-12],\n",
       " [3.058951776051696e-14, 1.3119387845294087e-12],\n",
       " [2.6946747828597438e-14, 1.7135736596739528e-13],\n",
       " [2.395161273238209e-13, 1.0191131996020142e-13],\n",
       " [1.0024730883749266e-13, 1.635834752972226e-14],\n",
       " [1.8918601359811525e-14, 3.3686505314864284e-16],\n",
       " [9.43824557940818e-14, 1.6368924717144018e-12],\n",
       " [7.498359004313317e-14, 7.377061352586309e-15],\n",
       " [4.305934540918171e-14, 3.550007546121989e-14],\n",
       " [2.856991445537142e-15, 3.7665615244194257e-13],\n",
       " [1.7051887078108837e-14, 1.249625123297845e-13],\n",
       " [3.783882977886941e-13, 1.9615329188609224e-13],\n",
       " [4.456320989398594e-15, 3.2788491477266906e-13],\n",
       " [6.980795850259576e-14, 1.2314321980253777e-12],\n",
       " [2.5360851767680372e-14, 2.7053511908046357e-14],\n",
       " [4.345451515813179e-14, 7.685972077515214e-15],\n",
       " [5.033270286699219e-13, 9.283685818408984e-13],\n",
       " [1.232611796649436e-16, 3.192211327188466e-18],\n",
       " [6.40343819972272e-16, 3.333864503412253e-17],\n",
       " [1.0803766616175971e-24, 1.1940857180986733e-27],\n",
       " [3.095313099134592e-14, 1.5123284034967873e-12],\n",
       " [2.702266624793391e-13, 2.3986578098599584e-14],\n",
       " [8.683288625162331e-15, 7.31530595601196e-15],\n",
       " [8.834951893410632e-14, 2.3603030283375228e-12],\n",
       " [1.2340319423765209e-13, 8.916482554157358e-13],\n",
       " [7.383944023084592e-15, 6.329897079327232e-13],\n",
       " [2.940111463314988e-13, 4.4464837413817893e-13],\n",
       " [1.140072705207242e-17, 3.9326036511177654e-17],\n",
       " [1.2789939594948165e-13, 2.1112399105731786e-14],\n",
       " [8.511276299280856e-13, 4.562422554984686e-13],\n",
       " [4.646541208322575e-13, 1.0824859302218636e-12],\n",
       " [1.2897031398169401e-14, 2.1795873558495835e-13],\n",
       " [1.1279157817240844e-16, 7.104351843228834e-17],\n",
       " [2.8313566410766507e-13, 1.3001972110356171e-12],\n",
       " [5.553451401435925e-14, 1.5223597297734247e-12],\n",
       " [3.511934511372818e-15, 3.900559217477409e-18],\n",
       " [3.522151745562349e-13, 1.3923143995162535e-12],\n",
       " [1.2624796793591113e-13, 2.986196297948753e-14],\n",
       " [4.565119662485992e-15, 1.3527838838617235e-14],\n",
       " [2.2305701215128958e-13, 2.0891144280433355e-12],\n",
       " [5.033410552737432e-15, 2.744066885887262e-19],\n",
       " [2.614550952628866e-18, 7.650813734393272e-17],\n",
       " [1.2673810293573759e-14, 2.908774051016134e-13],\n",
       " [4.084748966234764e-15, 3.6196373530772375e-17],\n",
       " [1.8491676999905677e-14, 2.6769336150369667e-14],\n",
       " [1.353297068632669e-13, 1.892006531162835e-12],\n",
       " [8.933422260057741e-14, 9.927900873902155e-13],\n",
       " [2.0236824652963982e-13, 6.630113815353074e-13],\n",
       " [1.1815076967314608e-13, 3.4008737487264924e-13],\n",
       " [6.73532863620528e-14, 4.3544333468809423e-16],\n",
       " [2.5536342451684926e-14, 1.4442307590876013e-13],\n",
       " [1.2486238260883217e-13, 3.5969324711991545e-13],\n",
       " [1.1244408251943278e-13, 1.8195760404760504e-12],\n",
       " [1.2134473614497632e-13, 3.7307408621258565e-13],\n",
       " [2.8048976283357604e-13, 2.7315905637135087e-13],\n",
       " [1.7987312463298867e-13, 2.637631406745499e-12],\n",
       " [6.3778455528465384e-15, 6.165117783111988e-18],\n",
       " [1.8473939776568747e-16, 2.3216397261072165e-18],\n",
       " [2.7651037065842986e-22, 2.609648410862914e-19],\n",
       " [8.797711344335914e-14, 5.77804989988361e-16],\n",
       " [2.126798030132996e-22, 1.92633770715861e-19],\n",
       " [1.6417356313747608e-13, 9.750342161979959e-13],\n",
       " [8.491387132578508e-19, 1.709803354461206e-22],\n",
       " [1.8476405117647232e-13, 1.6492757632869057e-14],\n",
       " [3.171046301819253e-13, 2.1321536486413115e-12],\n",
       " [2.2791757969251637e-13, 1.0687660194738822e-13],\n",
       " [1.2022407958439148e-14, 3.866066911921126e-15],\n",
       " [1.4927252159209336e-14, 7.75650652333405e-13],\n",
       " [4.8047562744032025e-15, 8.076850610749054e-14],\n",
       " [1.208051174654827e-13, 1.895756233108982e-12],\n",
       " [1.747675890536773e-13, 2.297266060920031e-14],\n",
       " [1.0955179759480128e-13, 5.59892656157728e-13],\n",
       " [3.7650148913867146e-13, 3.3339245516948096e-14],\n",
       " [8.460772953732577e-17, 3.1734234651868836e-16],\n",
       " [7.435182917465793e-14, 2.754771544661403e-13],\n",
       " [7.513542162285285e-14, 1.7546534219727217e-12],\n",
       " [4.921834459718543e-13, 3.41395274888406e-12],\n",
       " [6.122907314613839e-14, 1.0150743173589491e-13],\n",
       " [3.351537645215136e-13, 1.0978828605691003e-12],\n",
       " [1.371724955874792e-13, 7.7266986296053e-15],\n",
       " [1.4831419906309724e-14, 2.7467322728916123e-13],\n",
       " [7.887722556243973e-14, 2.2837528400955286e-13],\n",
       " [1.747639467561903e-15, 4.964660870738995e-19],\n",
       " [8.568479821176396e-13, 3.242506319679684e-12],\n",
       " [1.7745127484187444e-14, 2.2099215059615077e-13],\n",
       " [1.9922131818462243e-15, 1.6581756566281365e-17],\n",
       " [3.5039076835802746e-15, 3.366366941815936e-15],\n",
       " [4.146479285760041e-14, 1.2500412138795125e-13],\n",
       " [7.814057144412132e-14, 3.5276509706741453e-13],\n",
       " [1.1624245359474601e-13, 1.6064083102863939e-12],\n",
       " [6.70409509338568e-18, 1.3320293466793572e-19],\n",
       " [1.8338595473426262e-14, 1.3632646935031988e-13],\n",
       " [6.267349012541135e-14, 4.447559605918229e-13],\n",
       " [2.4536081532172193e-15, 2.902735272193481e-14],\n",
       " [1.2645192709045754e-14, 1.8771830480364038e-14],\n",
       " [3.1476721276828075e-13, 5.848873191377923e-13],\n",
       " [9.813255214336474e-14, 9.22815214928125e-13],\n",
       " [5.512854487715101e-14, 1.3740386287861651e-13],\n",
       " [3.531856891802671e-15, 1.7659724718912032e-13],\n",
       " [5.3995310149005225e-14, 1.7747848974599686e-13],\n",
       " [9.187234237080822e-14, 4.725369442818337e-13],\n",
       " [7.389296407759527e-14, 3.663433589215937e-13],\n",
       " [4.526675623247919e-14, 1.2933834683786604e-13],\n",
       " [3.411444057193568e-14, 9.883591239584986e-13],\n",
       " [6.230526847760867e-13, 9.215410588760489e-14],\n",
       " [4.1843466990962713e-13, 2.338551626914923e-13],\n",
       " [1.3197270393560272e-17, 2.6289925854488697e-16],\n",
       " [9.828157309750017e-14, 6.586356639753394e-13],\n",
       " [5.330530663302191e-15, 2.514396983768217e-13],\n",
       " [2.490477777321365e-14, 1.808169544689433e-13],\n",
       " [1.3665645652838838e-13, 2.6349409318063424e-13],\n",
       " [3.78763020183519e-13, 5.172212424062621e-13],\n",
       " [2.3022291476474566e-13, 2.60774607481672e-12],\n",
       " [1.928857548774292e-13, 3.0807063496869746e-13],\n",
       " [3.023434107775091e-14, 1.1609149181440552e-12],\n",
       " [3.063048105312808e-13, 4.90440070385371e-13],\n",
       " [5.6840044983310914e-14, 2.2650739894004898e-15],\n",
       " [9.028404061202689e-14, 6.044929446071401e-13],\n",
       " [1.0434661689978875e-13, 5.942321935868645e-13],\n",
       " [3.603797809440409e-16, 3.0309773901163435e-20],\n",
       " [3.3028825754034093e-14, 4.179326360778926e-14],\n",
       " [2.4310741533132147e-14, 4.2116105861639495e-13],\n",
       " [5.31681784383281e-13, 1.043693312658219e-12],\n",
       " [8.05629978617493e-14, 5.182564745902727e-13],\n",
       " [1.3032075492709165e-14, 9.867738049599527e-17],\n",
       " [2.9447399198393095e-20, 1.1496923877387919e-21],\n",
       " [6.41603287026313e-14, 1.3490523048957744e-12],\n",
       " [9.236154425840818e-15, 5.659517305927128e-15],\n",
       " [8.639944909653646e-14, 9.091143091355546e-13],\n",
       " [5.4924119609026345e-15, 6.6336592807480964e-15],\n",
       " [7.297796083194591e-14, 1.161588084582711e-13],\n",
       " [1.0910497022047863e-13, 6.198236502168663e-13],\n",
       " [2.0350397465342186e-13, 3.076051777065747e-14],\n",
       " [4.4497579299980843e-14, 1.508131044730354e-15],\n",
       " [7.201682146075413e-14, 4.906473184979616e-13],\n",
       " [4.929687648980305e-14, 5.109501232629066e-13],\n",
       " [1.3838803300779516e-16, 9.678545384282075e-17],\n",
       " [1.7585388016798447e-13, 6.379438425197351e-14],\n",
       " [1.5814871597463598e-13, 1.445413442981213e-12],\n",
       " [2.7966556225799634e-14, 1.198132776972855e-12],\n",
       " [2.915063688286348e-14, 6.529915311670439e-13],\n",
       " [2.9778971338313377e-13, 2.4513157925821504e-14],\n",
       " [5.591654773473478e-14, 1.6576798125203854e-12],\n",
       " [3.181653762222425e-14, 1.5651440572672978e-13],\n",
       " [1.0547525328693404e-13, 2.369336541860977e-12],\n",
       " [2.437048198064123e-13, 3.5971520797268466e-14],\n",
       " [1.7394804110073528e-15, 9.74086919709297e-16],\n",
       " [1.5758123387599908e-15, 1.643507282361727e-13],\n",
       " [4.766998119604865e-15, 4.372979171416516e-15],\n",
       " [3.018625244864817e-13, 8.289418401916931e-14],\n",
       " [5.6640661482621214e-14, 1.9746397984575138e-12],\n",
       " [1.445457253257767e-13, 8.168904636953544e-13],\n",
       " [2.068792991650184e-18, 1.3004824057524927e-24],\n",
       " [8.814388599915482e-14, 2.295422929294355e-12],\n",
       " [1.0129732249606018e-13, 2.354953910656234e-12],\n",
       " [1.2677708855185557e-13, 1.215643588344104e-12],\n",
       " [8.099214312416237e-14, 1.1845867966537599e-12],\n",
       " [6.951425737719489e-15, 1.1087147225018177e-14],\n",
       " [1.9181968145202502e-14, 2.1941378973475104e-13],\n",
       " [1.927939862714055e-13, 7.620163793827333e-13],\n",
       " [3.937915017598708e-16, 2.0075484319264748e-16],\n",
       " [2.9926847528743807e-13, 4.464577405192214e-13],\n",
       " [2.134289730563667e-13, 4.3157833955365325e-13],\n",
       " [3.9829484626989465e-13, 4.749110119219782e-14],\n",
       " [3.806106074584122e-19, 3.483569259924148e-17],\n",
       " [5.634614529460705e-14, 7.155290160649049e-13],\n",
       " [3.882915734999423e-13, 8.358501576512082e-13],\n",
       " [7.057355170335451e-14, 3.258691773358142e-13],\n",
       " [9.645456985442616e-14, 2.0403331071946734e-15],\n",
       " [9.607223118345091e-14, 4.6487757555557515e-15],\n",
       " [7.74023976674943e-15, 9.335333592095375e-18],\n",
       " [1.0869324287897578e-16, 9.679698220507993e-17],\n",
       " [2.8652847834874337e-14, 3.1779353247930394e-15],\n",
       " [9.47796408884036e-14, 1.1603989340388113e-12],\n",
       " [6.184481833317054e-15, 3.7817342974874116e-16],\n",
       " [1.748587381706636e-21, 5.599971473423597e-20],\n",
       " [1.1332796785265252e-13, 1.1764431688931225e-13],\n",
       " [3.1451045496549536e-15, 1.1767045298214492e-15],\n",
       " [2.0977149242663244e-13, 2.270899904906975e-12],\n",
       " [1.306169174062462e-13, 1.2026653179320174e-12],\n",
       " [1.6222078119690837e-14, 6.27739275404349e-14],\n",
       " [3.4200478206105756e-14, 6.7126785011094e-14]]"
      ]
     },
     "execution_count": 52,
     "metadata": {},
     "output_type": "execute_result"
    }
   ],
   "source": [
    "predictions_raw"
   ]
  },
  {
   "cell_type": "code",
   "execution_count": 53,
   "metadata": {
    "colab": {},
    "colab_type": "code",
    "id": "4I8_m_yDJZJb"
   },
   "outputs": [],
   "source": [
    "predictions = []\n",
    "for row in predictions_raw:\n",
    "  if(row[0]>row[1]):\n",
    "    predictions.append(1)\n",
    "  else:\n",
    "    predictions.append(0)"
   ]
  },
  {
   "cell_type": "code",
   "execution_count": 54,
   "metadata": {
    "colab": {
     "base_uri": "https://localhost:8080/",
     "height": 51
    },
    "colab_type": "code",
    "id": "9KUQuYfALU8x",
    "outputId": "41f00390-c963-4d21-dba9-6e5cbca3bf68"
   },
   "outputs": [
    {
     "data": {
      "text/plain": [
       "array([[120,  31],\n",
       "       [ 30,  50]], dtype=int64)"
      ]
     },
     "execution_count": 54,
     "metadata": {},
     "output_type": "execute_result"
    }
   ],
   "source": [
    "confusion_matrix(test_y.tolist(), predictions)"
   ]
  }
 ],
 "metadata": {
  "colab": {
   "collapsed_sections": [],
   "include_colab_link": true,
   "name": "DA2(without Sklearn Naive bayes).ipynb",
   "provenance": [],
   "toc_visible": true
  },
  "kernelspec": {
   "display_name": "Python 3",
   "language": "python",
   "name": "python3"
  },
  "language_info": {
   "codemirror_mode": {
    "name": "ipython",
    "version": 3
   },
   "file_extension": ".py",
   "mimetype": "text/x-python",
   "name": "python",
   "nbconvert_exporter": "python",
   "pygments_lexer": "ipython3",
   "version": "3.7.3"
  }
 },
 "nbformat": 4,
 "nbformat_minor": 1
}
