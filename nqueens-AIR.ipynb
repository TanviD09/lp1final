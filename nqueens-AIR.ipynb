{
 "cells": [
  {
   "cell_type": "code",
   "execution_count": 2,
   "metadata": {},
   "outputs": [
    {
     "name": "stdout",
     "output_type": "stream",
     "text": [
      "Enter n(greater than 3) : 4\n",
      "[0, 0, 1, 0]\n",
      "[1, 0, 0, 0]\n",
      "[0, 0, 0, 1]\n",
      "[0, 1, 0, 0]\n"
     ]
    }
   ],
   "source": [
    "matrix = [[0 for i in range(100)]for i in range(100)]\n",
    "row = [0 for i in range(100)]\n",
    "forwardDiagonal = [0 for i in range(199)]\n",
    "backwardDiagonal = [0 for i in range(199)]\n",
    "\n",
    "def checkRow(row,n):\n",
    "\tfor i in range(1,n+1):\n",
    "\t\tif matrix[row][i]==1:\n",
    "\t\t\treturn True\n",
    "\treturn False\n",
    "\n",
    "def checkDiagonal(row,col,n):\n",
    "\ti=1\n",
    "\twhile row+i<n+1 or row-i>0 or col+i<n+1 or col-i>0:\n",
    "\t\tif row+i<n+1 and col+i<n+1 and matrix[row+i][col+i]==1:\n",
    "\t\t\treturn True\n",
    "\t\tif row+i<n+1 and col-i>0 and matrix[row+i][col-i]==1:\n",
    "\t\t\treturn True\n",
    "\t\tif row-i>0 and col+i<n+1 and matrix[row-i][col+i]==1:\n",
    "\t\t\treturn True\n",
    "\t\tif row-i>0 and col-i>0 and matrix[row-i][col-i]==1:\n",
    "\t\t\treturn True\n",
    "\t\ti+=1\n",
    "\treturn False\n",
    "\n",
    "def nqueens(n,col):\n",
    "\tfor row in range(1,n+1):\n",
    "\t\tif checkRow(row,n)==False and checkDiagonal(row,col,n)==False:\n",
    "\t\t\tmatrix[row][col] = 1\n",
    "\t\t\tif col==n:\n",
    "\t\t\t\treturn True\n",
    "\t\t\tflag = nqueens(n,col+1)\n",
    "\t\t\tif flag==False:\n",
    "\t\t\t\tmatrix[row][col]=0\n",
    "\t\t\telse:\n",
    "\t\t\t\treturn True\n",
    "\treturn False\n",
    "\n",
    "def Check(row1,col1,n):\n",
    "\treturn row[row1]==True or forwardDiagonal[row1+col1]==True or backwardDiagonal[2*n-1+row1-col1]==True\n",
    "\n",
    "def Mark(row1,col1,n,arg):\n",
    "\trow[row1] = arg\n",
    "\tforwardDiagonal[row1+col1]=arg\n",
    "\tbackwardDiagonal[2*n-1+row1-col1]=arg\n",
    "\n",
    "def nqueens_branc_bound(n,col):\n",
    "\tfor row in range(1,n+1):\n",
    "\t\tif Check(row,col,n)==False:\n",
    "\t\t\tmatrix[row][col] = 1\n",
    "\t\t\tMark(row,col,n,True)\n",
    "\t\t\tif col==n:\n",
    "\t\t\t\treturn True\n",
    "\t\t\tflag = nqueens_branc_bound(n,col+1)\n",
    "\t\t\tif flag==False:\n",
    "\t\t\t\tmatrix[row][col]=0\n",
    "\t\t\t\tMark(row,col,n,False)\n",
    "\t\t\telse:\n",
    "\t\t\t\treturn True\n",
    "\treturn False\n",
    "\n",
    "if __name__ == \"__main__\":\n",
    "\tn = int(input(\"Enter n(greater than 3) : \"))\n",
    "\tnqueens(n,1)\n",
    "\tfor i in range(1,n+1):\n",
    "\t\tprint(matrix[i][1:n+1])\n"
   ]
  },
  {
   "cell_type": "code",
   "execution_count": null,
   "metadata": {},
   "outputs": [],
   "source": []
  }
 ],
 "metadata": {
  "kernelspec": {
   "display_name": "Python 3",
   "language": "python",
   "name": "python3"
  },
  "language_info": {
   "codemirror_mode": {
    "name": "ipython",
    "version": 3
   },
   "file_extension": ".py",
   "mimetype": "text/x-python",
   "name": "python",
   "nbconvert_exporter": "python",
   "pygments_lexer": "ipython3",
   "version": "3.7.3"
  }
 },
 "nbformat": 4,
 "nbformat_minor": 2
}
